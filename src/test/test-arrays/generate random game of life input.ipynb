{
 "cells": [
  {
   "cell_type": "code",
   "execution_count": 31,
   "id": "fc985242",
   "metadata": {},
   "outputs": [],
   "source": [
    "import random"
   ]
  },
  {
   "cell_type": "code",
   "execution_count": 310,
   "id": "b8f43bd8",
   "metadata": {},
   "outputs": [],
   "source": [
    "# define your input array rows (n) and columns (m) and \n",
    "# name your input data file\n",
    "n = 10\n",
    "m = 10\n",
    "\n",
    "file_name = \"test_0s_10x10.in\"\n",
    "cells = n*m\n"
   ]
  },
  {
   "cell_type": "code",
   "execution_count": 183,
   "id": "e8086ba8",
   "metadata": {},
   "outputs": [],
   "source": [
    "def generateInput2(n, m):\n",
    "    \"\"\"Given rows (n) and columns (m) it creates an array,\n",
    "    that when interpreted as a 2D array has a border with 0s\n",
    "    and all inner cells each have a randomly chosen 0 or 1.\"\"\"\n",
    "    a = [0]*(n*m);\n",
    "    \n",
    "    for i in range(1,n-1):\n",
    "        for j in range(1,m-1):\n",
    "            a[i*m + j] = random.choice([0,1])\n",
    "    return a;\n",
    "\n",
    "def generate_fixed_Input(n, m, cell_value=0):\n",
    "    \"\"\"Given rows (n) and columns (m) it creates an array,\n",
    "    that when interpreted as a 2D array has a border with 0s\n",
    "    and all inner cells each have a randomly chosen 0 or 1.\"\"\"\n",
    "    if not(cell_value == 1 or cell_value == 0):\n",
    "        print('cell value should be integer 0 or 1. You have provided {cell_value}')\n",
    "        return\n",
    "    \n",
    "    a = [0]*(n*m);\n",
    "    \n",
    "    for i in range(1,n-1):\n",
    "        for j in range(1,m-1):\n",
    "            a[i*m + j] = cell_value\n",
    "    return a;\n"
   ]
  },
  {
   "cell_type": "code",
   "execution_count": 184,
   "id": "d5b242c5",
   "metadata": {},
   "outputs": [],
   "source": [
    "def add_border(innercells, n, m):\n",
    "    # n = y, m = x\n",
    "    \"\"\"Given rows (n) and columns (m) it creates an array,\n",
    "    that when interpreted as a 2D array has a border with 0s\n",
    "    and all inner cells each have a randomly chosen 0 or 1.\"\"\"\n",
    "    an = n+2\n",
    "    am = m+2\n",
    "    a = [0]*(an*am);\n",
    "\n",
    "    if len(innercells) != (n)*(m):\n",
    "        print(f\"the inner cells {len(innercells)} are not compatible with n={n} and m={m}, {m*n} \")\n",
    "    \n",
    "    for i in range(1,an-1):\n",
    "        for j in range(1,am-1):\n",
    "            a[i*am + j] = innercells[(i-1)*m + (j-1)]\n",
    "    return a, an, am;\n",
    "    "
   ]
  },
  {
   "cell_type": "code",
   "execution_count": 185,
   "id": "821b9435",
   "metadata": {},
   "outputs": [],
   "source": [
    "def print2darray(a, n, m):\n",
    "    for i in range(n):\n",
    "        for j in range(m):\n",
    "            print(a[i*m + j],end=\" \");\n",
    "        print(\"\");\n",
    "    print(\"\\n\");\n"
   ]
  },
  {
   "cell_type": "code",
   "execution_count": 186,
   "id": "0077fd40",
   "metadata": {},
   "outputs": [],
   "source": [
    "def write_cells_to_file(file_name, inputcells, n, m):\n",
    "    file = open(file_name,\"w\")\n",
    "    file.write(str(n)+\" \")\n",
    "    file.write(str(m)+\" \")\n",
    "    j = len(inputcells)\n",
    "    for i in range(j):\n",
    "        file.write(str(inputcells[i])+\" \")\n",
    "    "
   ]
  },
  {
   "cell_type": "code",
   "execution_count": 330,
   "id": "f1e277d3",
   "metadata": {},
   "outputs": [],
   "source": [
    "# define your input array rows (n) and columns (m) and \n",
    "# name your input data file\n",
    "for i in range(1,11):\n",
    "    n = m = 90\n",
    "\n",
    "    # file_name = \"test_0s_\"+str(n)+\"x\"+str(m)+\".in\"\n",
    "    file_name = \"test_random_\"+str(i)+\"_\"+str(n)+\"x\"+str(m)+\".in\"\n",
    "    cells = n*m\n",
    "    #inputcells = generate_fixed_Input(n,m,0)\n",
    "    inputcells = generateInput2(n,m)\n",
    "    write_cells_to_file(file_name,inputcells,n,m)"
   ]
  },
  {
   "cell_type": "code",
   "execution_count": 319,
   "id": "3bea7e7c",
   "metadata": {},
   "outputs": [],
   "source": [
    "#inputcells = generateInput2(n,m)\n",
    "\n",
    "\n"
   ]
  },
  {
   "cell_type": "code",
   "execution_count": 233,
   "id": "ca139987",
   "metadata": {},
   "outputs": [],
   "source": [
    "# print2darray(inputcells,n,m)\n"
   ]
  },
  {
   "cell_type": "code",
   "execution_count": 234,
   "id": "3c407f65",
   "metadata": {},
   "outputs": [],
   "source": []
  },
  {
   "cell_type": "code",
   "execution_count": 206,
   "id": "3d010e14",
   "metadata": {},
   "outputs": [],
   "source": [
    "# \n",
    "#file = open(file_name,\"r\")\n",
    "#print(file.read())"
   ]
  },
  {
   "cell_type": "code",
   "execution_count": 186,
   "id": "90e70ce2",
   "metadata": {},
   "outputs": [
    {
     "name": "stdout",
     "output_type": "stream",
     "text": [
      "1 1 1 1 1 1 1 1 1 1 1 1 1 1 1 1 1 1 1 1 1 0 1 1 1 \n",
      "1 1 1 1 1 1 1 1 1 1 1 1 1 1 1 1 1 1 0 0 0 0 1 1 1 \n",
      "1 1 1 1 1 1 1 1 1 1 1 1 1 0 1 1 0 1 0 0 1 1 1 1 1 \n",
      "1 1 1 1 1 1 1 1 1 1 1 1 1 0 1 1 1 1 1 1 1 1 1 1 1 \n",
      "0 0 0 0 1 1 1 1 1 1 1 1 0 1 1 1 0 1 0 0 1 1 1 1 1 \n",
      "0 1 1 1 0 1 1 1 1 1 0 0 1 0 0 1 0 1 0 1 0 0 0 0 0 \n",
      "0 1 1 1 1 1 1 1 1 1 0 0 1 0 1 0 1 0 1 1 0 0 0 0 0 \n",
      "1 0 1 1 0 1 1 0 0 1 1 0 1 1 1 0 0 0 1 1 0 1 0 0 1 \n",
      "1 1 1 1 1 1 0 1 1 0 1 0 0 1 1 1 1 1 1 1 1 1 1 1 1 \n",
      "1 1 1 1 1 1 0 1 1 1 1 0 0 1 1 1 1 1 1 1 1 1 1 1 1 \n",
      "1 1 1 1 1 1 0 1 1 0 1 0 0 1 1 1 1 1 1 1 1 1 1 1 1 \n",
      "1 0 1 1 0 1 1 0 0 1 1 0 1 1 1 0 0 0 1 1 0 1 0 0 1 \n",
      "0 1 1 1 1 1 1 1 1 1 0 0 1 0 1 0 1 0 1 1 0 0 0 0 0 \n",
      "0 1 1 1 0 1 1 1 1 1 0 0 1 0 0 1 0 1 0 1 0 0 0 0 0 \n",
      "0 0 0 0 1 1 1 1 1 1 1 1 0 1 1 1 0 1 0 0 1 1 1 1 1 \n",
      "1 1 1 1 1 1 1 1 1 1 1 1 1 0 1 1 1 1 1 1 1 1 1 1 1 \n",
      "1 1 1 1 1 1 1 1 1 1 1 1 1 0 1 1 0 1 0 0 1 1 1 1 1 \n",
      "1 1 1 1 1 1 1 1 1 1 1 1 1 1 1 1 1 1 0 0 0 0 1 1 1 \n",
      "1 1 1 1 1 1 1 1 1 1 1 1 1 1 1 1 1 1 1 1 1 0 1 1 1 \n",
      "\n",
      "\n",
      "0 0 0 0 0 0 0 0 0 0 0 0 0 0 0 0 0 0 0 0 0 0 0 0 0 0 0 \n",
      "0 1 1 1 1 1 1 1 1 1 1 1 1 1 1 1 1 1 1 1 1 1 0 1 1 1 0 \n",
      "0 1 1 1 1 1 1 1 1 1 1 1 1 1 1 1 1 1 1 0 0 0 0 1 1 1 0 \n",
      "0 1 1 1 1 1 1 1 1 1 1 1 1 1 0 1 1 0 1 0 0 1 1 1 1 1 0 \n",
      "0 1 1 1 1 1 1 1 1 1 1 1 1 1 0 1 1 1 1 1 1 1 1 1 1 1 0 \n",
      "0 0 0 0 0 1 1 1 1 1 1 1 1 0 1 1 1 0 1 0 0 1 1 1 1 1 0 \n",
      "0 0 1 1 1 0 1 1 1 1 1 0 0 1 0 0 1 0 1 0 1 0 0 0 0 0 0 \n",
      "0 0 1 1 1 1 1 1 1 1 1 0 0 1 0 1 0 1 0 1 1 0 0 0 0 0 0 \n",
      "0 1 0 1 1 0 1 1 0 0 1 1 0 1 1 1 0 0 0 1 1 0 1 0 0 1 0 \n",
      "0 1 1 1 1 1 1 0 1 1 0 1 0 0 1 1 1 1 1 1 1 1 1 1 1 1 0 \n",
      "0 1 1 1 1 1 1 0 1 1 1 1 0 0 1 1 1 1 1 1 1 1 1 1 1 1 0 \n",
      "0 1 1 1 1 1 1 0 1 1 0 1 0 0 1 1 1 1 1 1 1 1 1 1 1 1 0 \n",
      "0 1 0 1 1 0 1 1 0 0 1 1 0 1 1 1 0 0 0 1 1 0 1 0 0 1 0 \n",
      "0 0 1 1 1 1 1 1 1 1 1 0 0 1 0 1 0 1 0 1 1 0 0 0 0 0 0 \n",
      "0 0 1 1 1 0 1 1 1 1 1 0 0 1 0 0 1 0 1 0 1 0 0 0 0 0 0 \n",
      "0 0 0 0 0 1 1 1 1 1 1 1 1 0 1 1 1 0 1 0 0 1 1 1 1 1 0 \n",
      "0 1 1 1 1 1 1 1 1 1 1 1 1 1 0 1 1 1 1 1 1 1 1 1 1 1 0 \n",
      "0 1 1 1 1 1 1 1 1 1 1 1 1 1 0 1 1 0 1 0 0 1 1 1 1 1 0 \n",
      "0 1 1 1 1 1 1 1 1 1 1 1 1 1 1 1 1 1 1 0 0 0 0 1 1 1 0 \n",
      "0 1 1 1 1 1 1 1 1 1 1 1 1 1 1 1 1 1 1 1 1 1 0 1 1 1 0 \n",
      "0 0 0 0 0 0 0 0 0 0 0 0 0 0 0 0 0 0 0 0 0 0 0 0 0 0 0 \n",
      "\n",
      "\n"
     ]
    }
   ],
   "source": [
    "test = \".....................O.....................OOOO................O..O.OO..................O...........OOOO........O...O.OO.....O...O.....OO.OO.O.O.OOOOOO.........OO.O.O.O..OOOOO.O..O..OO..O...OOO..O.OO.......O..O.OO..................O....OO..................O..O.OO.............O..O..OO..O...OOO..O.OO.O.........OO.O.O.O..OOOOOO...O.....OO.OO.O.O.OOOOOOOOO........O...O.OO..................O........................O..O.OO.......................OOOO........................O...\"\n",
    " \n",
    "test_out = translate(test,19,25)\n",
    "print2darray(test_out,19,25)\n",
    "\n",
    "array,m1,n1 = add_border(test_out,19,25)\n",
    "print2darray(array,m1,n1)"
   ]
  },
  {
   "cell_type": "code",
   "execution_count": null,
   "id": "487575eb",
   "metadata": {},
   "outputs": [],
   "source": []
  }
 ],
 "metadata": {
  "kernelspec": {
   "display_name": "Python 3",
   "language": "python",
   "name": "python3"
  },
  "language_info": {
   "codemirror_mode": {
    "name": "ipython",
    "version": 3
   },
   "file_extension": ".py",
   "mimetype": "text/x-python",
   "name": "python",
   "nbconvert_exporter": "python",
   "pygments_lexer": "ipython3",
   "version": "3.8.5"
  }
 },
 "nbformat": 4,
 "nbformat_minor": 5
}
